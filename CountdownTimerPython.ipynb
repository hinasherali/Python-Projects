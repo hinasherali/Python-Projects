{
  "nbformat": 4,
  "nbformat_minor": 0,
  "metadata": {
    "colab": {
      "provenance": [],
      "authorship_tag": "ABX9TyM87GRR4Cda2UMtU3II89vX",
      "include_colab_link": true
    },
    "kernelspec": {
      "name": "python3",
      "display_name": "Python 3"
    },
    "language_info": {
      "name": "python"
    }
  },
  "cells": [
    {
      "cell_type": "markdown",
      "metadata": {
        "id": "view-in-github",
        "colab_type": "text"
      },
      "source": [
        "<a href=\"https://colab.research.google.com/github/hinasherali/Python-Projects/blob/main/CountdownTimerPython.ipynb\" target=\"_parent\"><img src=\"https://colab.research.google.com/assets/colab-badge.svg\" alt=\"Open In Colab\"/></a>"
      ]
    },
    {
      "cell_type": "code",
      "execution_count": 6,
      "metadata": {
        "colab": {
          "base_uri": "https://localhost:8080/"
        },
        "id": "3NmK_OTGZBWM",
        "outputId": "a1a294d5-40ad-4ea0-ce0b-61ed244c4a1f"
      },
      "outputs": [
        {
          "output_type": "stream",
          "name": "stdout",
          "text": [
            "Enter the time in seconds: 5\n",
            "Time's up!\n"
          ]
        }
      ],
      "source": [
        "import time\n",
        "\n",
        "def countdown_timer(seconds):\n",
        "    try:\n",
        "        while seconds:\n",
        "            mins, secs = divmod(seconds, 60)\n",
        "            timer = '{:02d}:{:02d}'.format(mins, secs)\n",
        "            print(timer, end='\\r')  # Print the timer in the same line\n",
        "            time.sleep(1)  # Wait for 1 second\n",
        "            seconds -= 1\n",
        "\n",
        "        print(\"Time's up!\")\n",
        "    except Exception as e:\n",
        "        print(f\"An error occurred: {e}\")\n",
        "\n",
        "# Example usage\n",
        "if __name__ == \"__main__\":\n",
        "    total_seconds = int(input(\"Enter the time in seconds: \"))\n",
        "    countdown_timer(total_seconds)"
      ]
    }
  ]
}
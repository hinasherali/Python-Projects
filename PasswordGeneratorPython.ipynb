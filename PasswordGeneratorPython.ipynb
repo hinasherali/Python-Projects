{
  "nbformat": 4,
  "nbformat_minor": 0,
  "metadata": {
    "colab": {
      "provenance": [],
      "authorship_tag": "ABX9TyP9EwFy2BApmLhX3O99OYcm",
      "include_colab_link": true
    },
    "kernelspec": {
      "name": "python3",
      "display_name": "Python 3"
    },
    "language_info": {
      "name": "python"
    }
  },
  "cells": [
    {
      "cell_type": "markdown",
      "metadata": {
        "id": "view-in-github",
        "colab_type": "text"
      },
      "source": [
        "<a href=\"https://colab.research.google.com/github/hinasherali/Python-Projects/blob/main/PasswordGeneratorPython.ipynb\" target=\"_parent\"><img src=\"https://colab.research.google.com/assets/colab-badge.svg\" alt=\"Open In Colab\"/></a>"
      ]
    },
    {
      "cell_type": "code",
      "execution_count": 5,
      "metadata": {
        "colab": {
          "base_uri": "https://localhost:8080/"
        },
        "id": "sFRyfRiEa6yz",
        "outputId": "6bf64881-5f80-4dd5-e57a-b7da6062f87e"
      },
      "outputs": [
        {
          "output_type": "stream",
          "name": "stdout",
          "text": [
            "Generated Password: dF/3bD~/)M\n"
          ]
        }
      ],
      "source": [
        "import random\n",
        "import string\n",
        "\n",
        "def generate_password(length=12):\n",
        "    if length < 4:\n",
        "        raise ValueError(\"Password length should be at least 4 characters.\")\n",
        "\n",
        "    # Create character pools\n",
        "    lowercase = string.ascii_lowercase\n",
        "    uppercase = string.ascii_uppercase\n",
        "    digits = string.digits\n",
        "    special_characters = string.punctuation\n",
        "\n",
        "    # Ensure the password has at least one character from each category\n",
        "    password = [\n",
        "        random.choice(lowercase),\n",
        "        random.choice(uppercase),\n",
        "        random.choice(digits),\n",
        "        random.choice(special_characters)\n",
        "    ]\n",
        "\n",
        "    # Fill the rest of the password length with random choices from all categories\n",
        "    all_characters = lowercase + uppercase + digits + special_characters\n",
        "    password += random.choices(all_characters, k=length - 4)\n",
        "\n",
        "    # Shuffle the list to ensure randomness\n",
        "    random.shuffle(password)\n",
        "\n",
        "    # Join the list into a string\n",
        "    return ''.join(password)\n",
        "\n",
        "# Example usage\n",
        "if __name__ == \"__main__\":\n",
        "    password_length = 10  # Set the desired password length\n",
        "    generated_password = generate_password(password_length)\n",
        "    print(f\"Generated Password: {generated_password}\")"
      ]
    }
  ]
}
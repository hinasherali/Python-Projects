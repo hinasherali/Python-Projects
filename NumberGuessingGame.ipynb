{
  "nbformat": 4,
  "nbformat_minor": 0,
  "metadata": {
    "colab": {
      "provenance": [],
      "authorship_tag": "ABX9TyO+qGLfXTwjokFYTUnjxZS3",
      "include_colab_link": true
    },
    "kernelspec": {
      "name": "python3",
      "display_name": "Python 3"
    },
    "language_info": {
      "name": "python"
    }
  },
  "cells": [
    {
      "cell_type": "markdown",
      "metadata": {
        "id": "view-in-github",
        "colab_type": "text"
      },
      "source": [
        "<a href=\"https://colab.research.google.com/github/hinasherali/Python-Projects/blob/main/NumberGuessingGame.ipynb\" target=\"_parent\"><img src=\"https://colab.research.google.com/assets/colab-badge.svg\" alt=\"Open In Colab\"/></a>"
      ]
    },
    {
      "cell_type": "code",
      "execution_count": 1,
      "metadata": {
        "colab": {
          "base_uri": "https://localhost:8080/"
        },
        "id": "_1P_JpM8KPCM",
        "outputId": "f9d92b69-1c17-4701-c7b7-b5eefe43a006"
      },
      "outputs": [
        {
          "output_type": "stream",
          "name": "stdout",
          "text": [
            "Welcome to the Number Guessing Game!\n",
            "Guess a number between 1 and 100: 88\n",
            "Too high! Try again.\n",
            "Guess a number between 1 and 100: 60\n",
            "Too low! Try again.\n",
            "Guess a number between 1 and 100: 70\n",
            "Too low! Try again.\n",
            "Guess a number between 1 and 100: 80\n",
            "Congratulations! You've guessed the number 80 in 4 attempts.\n"
          ]
        }
      ],
      "source": [
        "import random\n",
        "\n",
        "def number_guessing_game():\n",
        "    print(\"Welcome to the Number Guessing Game!\")\n",
        "\n",
        "    # Set the range for the random number\n",
        "    lower_bound = 1\n",
        "    upper_bound = 100\n",
        "    number_to_guess = random.randint(lower_bound, upper_bound)\n",
        "\n",
        "    attempts = 0\n",
        "    while True:\n",
        "        try:\n",
        "            user_guess = int(input(f\"Guess a number between {lower_bound} and {upper_bound}: \"))\n",
        "            attempts += 1\n",
        "\n",
        "            if user_guess < lower_bound or user_guess > upper_bound:\n",
        "                print(f\"Please guess a number within the range {lower_bound} to {upper_bound}.\")\n",
        "            elif user_guess < number_to_guess:\n",
        "                print(\"Too low! Try again.\")\n",
        "            elif user_guess > number_to_guess:\n",
        "                print(\"Too high! Try again.\")\n",
        "            else:\n",
        "                print(f\"Congratulations! You've guessed the number {number_to_guess} in {attempts} attempts.\")\n",
        "                break\n",
        "        except ValueError:  # This line was incorrectly indented\n",
        "            print(\"Invalid input! Please enter a valid number.\")\n",
        "\n",
        "if __name__ == \"__main__\":\n",
        "   number_guessing_game()\n"
      ]
    }
  ]
}
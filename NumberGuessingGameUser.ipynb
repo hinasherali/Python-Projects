{
  "nbformat": 4,
  "nbformat_minor": 0,
  "metadata": {
    "colab": {
      "provenance": [],
      "authorship_tag": "ABX9TyOyb1zszCwBR/jyYo3CDu1T",
      "include_colab_link": true
    },
    "kernelspec": {
      "name": "python3",
      "display_name": "Python 3"
    },
    "language_info": {
      "name": "python"
    }
  },
  "cells": [
    {
      "cell_type": "markdown",
      "metadata": {
        "id": "view-in-github",
        "colab_type": "text"
      },
      "source": [
        "<a href=\"https://colab.research.google.com/github/hinasherali/Python-Projects/blob/main/NumberGuessingGameUser.ipynb\" target=\"_parent\"><img src=\"https://colab.research.google.com/assets/colab-badge.svg\" alt=\"Open In Colab\"/></a>"
      ]
    },
    {
      "cell_type": "code",
      "execution_count": 1,
      "metadata": {
        "id": "0EjbeifNU0Yb",
        "colab": {
          "base_uri": "https://localhost:8080/"
        },
        "outputId": "f910d09d-eb01-4f23-bca1-cd1db2dd3914"
      },
      "outputs": [
        {
          "output_type": "stream",
          "name": "stdout",
          "text": [
            "Welcome to the Number Guessing Game!\n",
            "User 1, please enter your name: Hina\n",
            "Hina, please choose a number between 1 and 100 (inclusive): 44\n",
            "User 2, please enter your name: Abu Bakar\n",
            "Okay, Abu Bakar, try to guess the number chosen by Hina!\n",
            "Enter your guess: 55\n",
            "Too high! Try again.\n",
            "Enter your guess: 33\n",
            "Too low! Try again.\n",
            "Enter your guess: 40\n",
            "Too low! Try again.\n",
            "Enter your guess: 48\n",
            "Too high! Try again.\n",
            "Enter your guess: 43\n",
            "Too low! Try again.\n",
            "Enter your guess: 44\n",
            "Congratulations, Abu Bakar! You've guessed the number 44 in 6 attempts!\n"
          ]
        }
      ],
      "source": [
        "import random\n",
        "\n",
        "def main():\n",
        "    print(\"Welcome to the Number Guessing Game!\")\n",
        "\n",
        "    # User 1 selects a number\n",
        "    user1_name = input(\"User 1, please enter your name: \")\n",
        "    user1_number = int(input(f\"{user1_name}, please choose a number between 1 and 100 (inclusive): \"))\n",
        "\n",
        "    # Check if the number is within the allowed range\n",
        "    if user1_number < 1 or user1_number > 100:\n",
        "        print(\"Number must be between 1 and 100. Game over.\")\n",
        "        return\n",
        "\n",
        "    # User 2 guesses the number\n",
        "    user2_name = input(\"User 2, please enter your name: \")\n",
        "    print(f\"Okay, {user2_name}, try to guess the number chosen by {user1_name}!\")\n",
        "\n",
        "    attempts = 0\n",
        "    while True:\n",
        "        try:\n",
        "            guess = int(input(\"Enter your guess: \"))\n",
        "            attempts += 1\n",
        "\n",
        "            if guess < 1 or guess > 100:\n",
        "                print(\"Your guess is out of bounds. Please guess a number between 1 and 100.\")\n",
        "            elif guess < user1_number:\n",
        "                print(\"Too low! Try again.\")\n",
        "            elif guess > user1_number:\n",
        "                print(\"Too high! Try again.\")\n",
        "            else:\n",
        "                print(f\"Congratulations, {user2_name}! You've guessed the number {user1_number} in {attempts} attempts!\")\n",
        "                break\n",
        "        except ValueError:\n",
        "            print(\"Invalid input! Please enter a valid number.\")\n",
        "\n",
        "if __name__ == \"__main__\":\n",
        "    main()"
      ]
    }
  ]
}